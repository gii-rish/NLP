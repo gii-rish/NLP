{
  "nbformat": 4,
  "nbformat_minor": 0,
  "metadata": {
    "colab": {
      "name": "NLP_examples.ipynb",
      "provenance": [],
      "collapsed_sections": [],
      "authorship_tag": "ABX9TyPL/yc4UAgA2azbtoIIOJTg",
      "include_colab_link": true
    },
    "kernelspec": {
      "name": "python3",
      "display_name": "Python 3"
    }
  },
  "cells": [
    {
      "cell_type": "markdown",
      "metadata": {
        "id": "view-in-github",
        "colab_type": "text"
      },
      "source": [
        "<a href=\"https://colab.research.google.com/github/gii-rish/NLP/blob/main/NLP_examples.ipynb\" target=\"_parent\"><img src=\"https://colab.research.google.com/assets/colab-badge.svg\" alt=\"Open In Colab\"/></a>"
      ]
    },
    {
      "cell_type": "markdown",
      "metadata": {
        "id": "ieGHCw7sQXj8"
      },
      "source": [
        "# Lemmatization, stemming, bag of words, tfidf, word2vec"
      ]
    },
    {
      "cell_type": "code",
      "metadata": {
        "id": "RYM9C00_ETtB"
      },
      "source": [
        "import nltk, re\n",
        "nltk.download('punkt')\n",
        "nltk.download('stopwords')\n",
        "nltk.download('wordnet')\n",
        "from nltk.corpus import stopwords\n",
        "from nltk.stem.porter import PorterStemmer\n",
        "from nltk.stem import WordNetLemmatizer"
      ],
      "execution_count": null,
      "outputs": []
    },
    {
      "cell_type": "markdown",
      "metadata": {
        "id": "bugMpmsVmztp"
      },
      "source": [
        "## A paragraph about Mahathma Gandhi from wikipedia"
      ]
    },
    {
      "cell_type": "code",
      "metadata": {
        "id": "Dyg82huQcTrZ"
      },
      "source": [
        "paragraph = '''Mohandas Karamchand Gandhi (/ˈɡɑːndi, ˈɡændi/;[1] 2 October 1869 – 30 January 1948) was an Indian lawyer,[2] anti-colonial nationalist,[3] and political ethicist,[4] who employed nonviolent resistance to lead the successful campaign for India's independence from British rule,[5] and in turn inspired movements for civil rights and freedom across the world. The honorific Mahātmā (Sanskrit: \"great-souled\", \"venerable\"), first applied to him in 1914 in South Africa, is now used throughout the world.[6][7]\n",
        "\n",
        "Born and raised in a Hindu family in coastal Gujarat, western India, Gandhi trained in law at the Inner Temple, London, and was called to the bar at age 22 in June 1891. After two uncertain years in India, where he was unable to start a successful law practice, he moved to South Africa in 1893, to represent an Indian merchant in a lawsuit. He went on to live in South Africa for 21 years. It was in South Africa that Gandhi raised a family, and first employed nonviolent resistance in a campaign for civil rights. In 1915, aged 45, he returned to India. He set about organising peasants, farmers, and urban labourers to protest against excessive land-tax and discrimination. Assuming leadership of the Indian National Congress in 1921, Gandhi led nationwide campaigns for easing poverty, expanding women's rights, building religious and ethnic amity, ending untouchability, and above all for achieving Swaraj or self-rule.[8]\n",
        "\n",
        "The same year Gandhi adopted the Indian loincloth, or short dhoti and, in the winter, a shawl, both woven with yarn hand-spun on a traditional Indian spinning wheel, or charkha, as a mark of identification with India's rural poor. Thereafter, he lived modestly in a self-sufficient residential community, ate simple vegetarian food, and undertook long fasts as a means of self-purification and political protest. Bringing anti-colonial nationalism to the common Indians, Gandhi led them in challenging the British-imposed salt tax with the 400 km (250 mi) Dandi Salt March in 1930, and later in calling for the British to Quit India in 1942. He was imprisoned for many years, upon many occasions, in both South Africa and India.\n",
        "\n",
        "Gandhi's vision of an independent India based on religious pluralism was challenged in the early 1940s by a new Muslim nationalism which was demanding a separate Muslim homeland carved out of India.[9] In August 1947, Britain granted independence, but the British Indian Empire[9] was partitioned into two dominions, a Hindu-majority India and Muslim-majority Pakistan.[10] As many displaced Hindus, Muslims, and Sikhs made their way to their new lands, religious violence broke out, especially in the Punjab and Bengal. Eschewing the official celebration of independence in Delhi, Gandhi visited the affected areas, attempting to provide solace. In the months following, he undertook several fasts unto death to stop religious violence. The last of these, undertaken on 12 January 1948 when he was 78,[11] also had the indirect goal of pressuring India to pay out some cash assets owed to Pakistan.[11] Some Indians thought Gandhi was too accommodating.[11][12] Among them was Nathuram Godse, a Hindu nationalist, who assassinated Gandhi on 30 January 1948 by firing three bullets into his chest.[12]\n",
        "\n",
        "Gandhi's birthday, 2 October, is commemorated in India as Gandhi Jayanti, a national holiday, and worldwide as the International Day of Nonviolence. Gandhi is commonly, though not formally, considered the Father of the Nation in India,[13][14] and was commonly called Bapu[15] (Gujarati: endearment for father,[16] papa[16][17]).'''"
      ],
      "execution_count": 2,
      "outputs": []
    },
    {
      "cell_type": "code",
      "metadata": {
        "id": "2-xZGtayMpwy"
      },
      "source": [
        "ps = PorterStemmer()\n",
        "wordNet = WordNetLemmatizer()\n",
        "\n",
        "sentences = nltk.sent_tokenize(paragraph)\n",
        "corpus = []\n"
      ],
      "execution_count": 3,
      "outputs": []
    },
    {
      "cell_type": "markdown",
      "metadata": {
        "id": "QPOwb74hlM0w"
      },
      "source": [
        "## Stemming - porter stemmer"
      ]
    },
    {
      "cell_type": "code",
      "metadata": {
        "id": "SyJoAbIdlI40"
      },
      "source": [
        "for i in range(len(sentences)):\n",
        "  toReview = re.sub('[^a-zA-Z]', ' ', sentences[i])\n",
        "  toReview = toReview.lower().split()\n",
        "  toReview = ' '.join([ps.stem(word) for word in toReview if word not in set(stopwords.words('english'))])\n",
        "  corpus.append(toReview)"
      ],
      "execution_count": null,
      "outputs": []
    },
    {
      "cell_type": "markdown",
      "metadata": {
        "id": "Gr4byqT0ldQd"
      },
      "source": [
        "## Lemmatization - WordNet lemmatizer"
      ]
    },
    {
      "cell_type": "code",
      "metadata": {
        "id": "hWQLTG_cleHS"
      },
      "source": [
        "for i in range(len(sentences)):\n",
        "  toReview = re.sub('[^a-zA-Z]', ' ', sentences[i])\n",
        "  toReview = toReview.lower().split()\n",
        "  toReview = ' '.join([wordNet.lemmatize(word) for word in toReview if word not in set(stopwords.words('english'))])\n",
        "  corpus.append(toReview)"
      ],
      "execution_count": null,
      "outputs": []
    },
    {
      "cell_type": "markdown",
      "metadata": {
        "id": "Dp0iV-DelB25"
      },
      "source": [
        "## Tfidf vectorization"
      ]
    },
    {
      "cell_type": "code",
      "metadata": {
        "id": "s1og9Iynds2l"
      },
      "source": [
        "from sklearn.feature_extraction.text import TfidfVectorizer\n",
        "vectorizer = TfidfVectorizer()\n",
        "x = vectorizer.fit_transform(corpus).toarray()"
      ],
      "execution_count": null,
      "outputs": []
    },
    {
      "cell_type": "markdown",
      "metadata": {
        "id": "lXk7q-S6lWN3"
      },
      "source": [
        "## Bag of Words - CountVectorizer"
      ]
    },
    {
      "cell_type": "code",
      "metadata": {
        "id": "ziBWqt8NmAWP"
      },
      "source": [
        "from sklearn.feature_extraction.text import CountVectorizer\n",
        "vectorizer = CountVectorizer(max_features=200)\n",
        "x = vectorizer.fit_transform(corpus).toarray()"
      ],
      "execution_count": 5,
      "outputs": []
    },
    {
      "cell_type": "markdown",
      "metadata": {
        "id": "Kuq1CeK0nODG"
      },
      "source": [
        "## Word2Vec"
      ]
    },
    {
      "cell_type": "code",
      "metadata": {
        "id": "Wha-TwGjnR9J"
      },
      "source": [
        "from gensim.models import Word2Vec\n",
        "model = Word2Vec(corpus, min_count = 2)\n",
        "words = model.wv.vocab"
      ],
      "execution_count": 12,
      "outputs": []
    }
  ]
}